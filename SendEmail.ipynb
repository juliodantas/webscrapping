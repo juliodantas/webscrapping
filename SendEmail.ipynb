{
  "nbformat": 4,
  "nbformat_minor": 0,
  "metadata": {
    "colab": {
      "provenance": [],
      "authorship_tag": "ABX9TyO1XM7KDzE5kABgeqwpxWj2",
      "include_colab_link": true
    },
    "kernelspec": {
      "name": "python3",
      "display_name": "Python 3"
    },
    "language_info": {
      "name": "python"
    }
  },
  "cells": [
    {
      "cell_type": "markdown",
      "metadata": {
        "id": "view-in-github",
        "colab_type": "text"
      },
      "source": [
        "<a href=\"https://colab.research.google.com/github/juliodantas/webscrapping/blob/main/SendEmail.ipynb\" target=\"_parent\"><img src=\"https://colab.research.google.com/assets/colab-badge.svg\" alt=\"Open In Colab\"/></a>"
      ]
    },
    {
      "cell_type": "code",
      "source": [
        "import smtplib\n",
        "\n",
        "class Gmail(object):\n",
        "    def __init__(self, email, password):\n",
        "        self.email = email\n",
        "        self.password = password\n",
        "        self.server = 'smtp.gmail.com'\n",
        "        self.port = 587\n",
        "        session = smtplib.SMTP(self.server, self.port)        \n",
        "        session.ehlo()\n",
        "        session.starttls()\n",
        "        session.ehlo\n",
        "        session.login(self.email, self.password)\n",
        "        self.session = session\n",
        "\n",
        "    def send_message(self, subject, body):\n",
        "        ''' This must be removed '''\n",
        "        headers = [\n",
        "            \"From: \" + self.email,\n",
        "            \"Subject: \" + subject,\n",
        "            \"To: \" + self.email,\n",
        "            \"MIME-Version: 1.0\",\n",
        "           \"Content-Type: text/html\"]\n",
        "        headers = \"\\r\\n\".join(headers)\n",
        "        self.session.sendmail(\n",
        "            self.email,\n",
        "            self.email,\n",
        "            headers + \"\\r\\n\\r\\n\" + body)"
      ],
      "metadata": {
        "id": "4WKb4ii6jYAr"
      },
      "execution_count": 34,
      "outputs": []
    },
    {
      "cell_type": "code",
      "source": [
        "gm = Gmail('juliocesardantascarina@gmail.com', 'wxluinsetawidksl')\n",
        "gm.send_message('oi', 'oi')"
      ],
      "metadata": {
        "id": "HzpKgHhmvOEV"
      },
      "execution_count": 35,
      "outputs": []
    },
    {
      "cell_type": "code",
      "source": [],
      "metadata": {
        "id": "Cqx0xGpJvfpy"
      },
      "execution_count": null,
      "outputs": []
    }
  ]
}