{
  "nbformat": 4,
  "nbformat_minor": 0,
  "metadata": {
    "colab": {
      "provenance": [],
      "collapsed_sections": [],
      "include_colab_link": true
    },
    "kernelspec": {
      "name": "python3",
      "display_name": "Python 3"
    },
    "language_info": {
      "name": "python"
    }
  },
  "cells": [
    {
      "cell_type": "markdown",
      "metadata": {
        "id": "view-in-github",
        "colab_type": "text"
      },
      "source": [
        "<a href=\"https://colab.research.google.com/github/juliodantas/webscrapping/blob/main/001_Aula_Python.ipynb\" target=\"_parent\"><img src=\"https://colab.research.google.com/assets/colab-badge.svg\" alt=\"Open In Colab\"/></a>"
      ]
    },
    {
      "cell_type": "code",
      "metadata": {
        "colab": {
          "base_uri": "https://localhost:8080/"
        },
        "id": "HAdslSod9Vnk",
        "outputId": "1d13d5a1-b10b-42bb-be1b-ea631da15af6"
      },
      "source": [
        "# Primeira meu codigo\n",
        "print('Olá mundão!')"
      ],
      "execution_count": null,
      "outputs": [
        {
          "output_type": "stream",
          "name": "stdout",
          "text": [
            "Olá mundão!\n"
          ]
        }
      ]
    },
    {
      "cell_type": "code",
      "metadata": {
        "colab": {
          "base_uri": "https://localhost:8080/"
        },
        "id": "dsYqTC639sX0",
        "outputId": "1c0eff54-d0f0-4b39-b28b-cfadf162ca53"
      },
      "source": [
        "print(\"Olá mundão!\")"
      ],
      "execution_count": null,
      "outputs": [
        {
          "output_type": "stream",
          "name": "stdout",
          "text": [
            "Olá mundão!\n"
          ]
        }
      ]
    },
    {
      "cell_type": "code",
      "metadata": {
        "colab": {
          "base_uri": "https://localhost:8080/"
        },
        "id": "6JgDErRj93gd",
        "outputId": "2bba596b-44ad-4c84-bcd3-269eb099fdbe"
      },
      "source": [
        "# Operadores para cálculos\n",
        "4 + 4"
      ],
      "execution_count": null,
      "outputs": [
        {
          "output_type": "execute_result",
          "data": {
            "text/plain": [
              "8"
            ]
          },
          "metadata": {},
          "execution_count": 4
        }
      ]
    },
    {
      "cell_type": "code",
      "metadata": {
        "colab": {
          "base_uri": "https://localhost:8080/"
        },
        "id": "mlHmggbs-BAz",
        "outputId": "257131f7-6982-443c-9758-42dfde30d089"
      },
      "source": [
        "4 - 4"
      ],
      "execution_count": null,
      "outputs": [
        {
          "output_type": "execute_result",
          "data": {
            "text/plain": [
              "0"
            ]
          },
          "metadata": {},
          "execution_count": 5
        }
      ]
    },
    {
      "cell_type": "code",
      "metadata": {
        "colab": {
          "base_uri": "https://localhost:8080/"
        },
        "id": "qv5yL2kR-Gy6",
        "outputId": "3f524dae-afbe-447e-9240-9c359af8f24f"
      },
      "source": [
        "2 * 10"
      ],
      "execution_count": null,
      "outputs": [
        {
          "output_type": "execute_result",
          "data": {
            "text/plain": [
              "20"
            ]
          },
          "metadata": {},
          "execution_count": 6
        }
      ]
    },
    {
      "cell_type": "code",
      "metadata": {
        "colab": {
          "base_uri": "https://localhost:8080/"
        },
        "id": "zqHTTZfx-JFm",
        "outputId": "618240fa-f2ec-4298-8723-23b3301d010d"
      },
      "source": [
        "2 / 4"
      ],
      "execution_count": null,
      "outputs": [
        {
          "output_type": "execute_result",
          "data": {
            "text/plain": [
              "0.5"
            ]
          },
          "metadata": {},
          "execution_count": 7
        }
      ]
    },
    {
      "cell_type": "code",
      "metadata": {
        "colab": {
          "base_uri": "https://localhost:8080/"
        },
        "id": "AEd8xOpc-Oss",
        "outputId": "efdad1b1-ee6c-4608-c0cf-f3e5e01c9d7e"
      },
      "source": [
        "Variavel = 9\n",
        "Variavel_02 = 'Palavra'\n",
        "\n",
        "Soma = 1 + 2\n",
        "Subtracao = 1 - 1\n",
        "Multiplicacao = 10 * 7\n",
        "Divisao = 10 / 2\n",
        "Exponenciacao = 2 ** 2\n",
        "Resto_Divisao = 9 % 4\n",
        "Divisao_Chao = 9 // 2\n",
        "\n",
        "print('Soma:', Soma )\n",
        "print('Subtratação:', Subtracao )\n",
        "print('Multiplocação: {}, {}'.format( Multiplicacao, Multiplicacao ) )\n",
        "print('Divisao:', Divisao )\n",
        "print('Exponenciação {}'.format( Exponenciacao ) )\n",
        "print('Resto da Divisão', Resto_Divisao )\n",
        "print('Divisão {}'.format( Divisao_Chao ) )"
      ],
      "execution_count": null,
      "outputs": [
        {
          "output_type": "stream",
          "name": "stdout",
          "text": [
            "Soma: 3\n",
            "Subtratação: 0\n",
            "Multiplocação: 70, 70\n",
            "Divisao: 5.0\n",
            "Exponenciação 4\n",
            "Resto da Divisão 1\n",
            "Divisão 4\n"
          ]
        }
      ]
    },
    {
      "cell_type": "code",
      "metadata": {
        "id": "qmQIlWBIBBgh"
      },
      "source": [
        "# Tipos de Variaveis \n",
        "\n",
        "# Valor inteiro\n",
        "Inteiro_01 = 100\n",
        "Inteiro_02 = int( 100 )\n",
        "\n",
        "# Valor flutuante\n",
        "Flutuante_01 = 10.09\n",
        "Flutuante_02 = float( 10.09 )\n",
        "\n",
        "# Strings ( Palavras ou Frases )\n",
        "Palavra_01 = 'Qualquer Coisa !!!'\n",
        "Palavra_02 = str( \"Qualquer coisa !!!\" )\n",
        "\n",
        "# Boleanos\n",
        "Booleano_01 = True\n",
        "Booleano_02 = False\n",
        "\n",
        "# Tipos de Dados\n",
        "\n",
        "# Listas\n",
        "Listas_01 = [1, 2, 3, 4, 5]\n",
        "Listas_02 = ['Nome', 'Palavras', 'Odemir', 'Fruta']\n",
        "Listas_03 = [1, 'Palavra', True, False]\n",
        "\n",
        "# Tuplas ( São imnutaveis --> Elá nunca vai mudar )\n",
        "Tupla_01 = (1, 2, 3, 4)\n",
        "Tupla_02 = ('Palavra', 2, True)\n",
        "\n",
        "# Dicionários \n",
        "Dicionario = {\n",
        "    'Index':'Alguma coisa',\n",
        "    'Index_02':100,\n",
        "    'Index_03':True,\n",
        "    'Qualquer Indez':'Qualquer valor',\n",
        "    'Lista Aqui dentro': Listas_01,\n",
        "    'Tupla': Tupla_01\n",
        "}"
      ],
      "execution_count": null,
      "outputs": []
    },
    {
      "cell_type": "code",
      "metadata": {
        "colab": {
          "base_uri": "https://localhost:8080/"
        },
        "id": "WU5J7iIRDi2n",
        "outputId": "a1e84275-65f3-467c-fa82-d562513f4d93"
      },
      "source": [
        "Dicionario"
      ],
      "execution_count": null,
      "outputs": [
        {
          "output_type": "execute_result",
          "data": {
            "text/plain": [
              "{'Index': 'Alguma coisa',\n",
              " 'Index_02': 100,\n",
              " 'Index_03': True,\n",
              " 'Lista Aqui dentro': [1, 2, 3, 4, 5],\n",
              " 'Qualquer Indez': 'Qualquer valor',\n",
              " 'Tupla': (1, 2, 3, 4)}"
            ]
          },
          "metadata": {},
          "execution_count": 24
        }
      ]
    },
    {
      "cell_type": "code",
      "metadata": {
        "colab": {
          "base_uri": "https://localhost:8080/"
        },
        "id": "OnxQp7HdFk_i",
        "outputId": "4db1074a-dddd-417a-c9c9-24d1bd11d979"
      },
      "source": [
        "# Nomear variaveis | Exemplo 01\n",
        "\n",
        "# multiplos valores\n",
        "A, B, C = 1, 2, 50\n",
        "\n",
        "print(A, B, C)"
      ],
      "execution_count": null,
      "outputs": [
        {
          "output_type": "stream",
          "name": "stdout",
          "text": [
            "1 2 50\n"
          ]
        }
      ]
    },
    {
      "cell_type": "code",
      "metadata": {
        "colab": {
          "base_uri": "https://localhost:8080/"
        },
        "id": "2mRGo4hcJ1rn",
        "outputId": "9c634ab9-aaf5-4e48-d6fe-6d02351ba8fc"
      },
      "source": [
        "# Nomear variaveis | Exemplo 02\n",
        "\n",
        "Morango = Uva = Kiwi = 1000\n",
        "\n",
        "print( Morango, Uva, Kiwi )"
      ],
      "execution_count": null,
      "outputs": [
        {
          "output_type": "stream",
          "name": "stdout",
          "text": [
            "1000 1000 1000\n"
          ]
        }
      ]
    },
    {
      "cell_type": "code",
      "metadata": {
        "colab": {
          "base_uri": "https://localhost:8080/"
        },
        "id": "gkcjbpMHJ9Sp",
        "outputId": "f7483d27-85e2-4664-90c6-6990502d2ca5"
      },
      "source": [
        "# Nomear variaveis | Exemplo 03\n",
        "\n",
        "# Criar lista\n",
        "Carros = ['VW', 'GM', 'Ford']\n",
        "\n",
        "Marca_01, Marca_02, Marca_03 = Carros\n",
        "\n",
        "print( Marca_02 )"
      ],
      "execution_count": null,
      "outputs": [
        {
          "output_type": "stream",
          "name": "stdout",
          "text": [
            "GM\n"
          ]
        }
      ]
    },
    {
      "cell_type": "code",
      "metadata": {
        "colab": {
          "base_uri": "https://localhost:8080/"
        },
        "id": "PbGNW6VMKTtU",
        "outputId": "a921859f-d443-4641-f661-1da058142abc"
      },
      "source": [
        "# Combinanco Variaveis | Exemplo 01\n",
        "\n",
        "# Concatenar\n",
        "Nome = 'Odemir'\n",
        "Sobrenome = str(90)\n",
        "Nome_Completo = Nome + ' ' + Sobrenome\n",
        "\n",
        "print( Nome_Completo )"
      ],
      "execution_count": null,
      "outputs": [
        {
          "output_type": "stream",
          "name": "stdout",
          "text": [
            "Odemir 90\n"
          ]
        }
      ]
    },
    {
      "cell_type": "code",
      "metadata": {
        "colab": {
          "base_uri": "https://localhost:8080/"
        },
        "id": "qGvRQpINKpWg",
        "outputId": "0cf33be5-30c0-46c9-b523-2b11ee441e68"
      },
      "source": [
        "# Combinanco Variaveis | Exemplo 02\n",
        "\n",
        "Dolar = float( 5.40 )\n",
        "Imposto = 0.20\n",
        "\n",
        "Valor_Liquido = (Dolar - ( Dolar * Imposto )) * 0.1\n",
        "\n",
        "print( Valor_Liquido )"
      ],
      "execution_count": null,
      "outputs": [
        {
          "output_type": "stream",
          "name": "stdout",
          "text": [
            "0.43200000000000005\n"
          ]
        }
      ]
    },
    {
      "cell_type": "code",
      "metadata": {
        "colab": {
          "base_uri": "https://localhost:8080/"
        },
        "id": "J1kreN5zLm9U",
        "outputId": "85fe1680-d617-4daa-c44c-461a1ea3301a"
      },
      "source": [
        "# Comando 'type'\n",
        "\n",
        "A = 1\n",
        "B = 2.9\n",
        "C = 'Olá'\n",
        "D = [ 1, 2, 3 ]\n",
        "E = ( 20, 30, 40 )\n",
        "F = { 'CPF': 123456789 }\n",
        "G = False\n",
        "\n",
        "print( type(A) )\n",
        "print( type(B) )\n",
        "print( type(C) )\n",
        "print( type(D) )\n",
        "print( type(E) )\n",
        "print( type(F) )\n",
        "print( type(G) )"
      ],
      "execution_count": null,
      "outputs": [
        {
          "output_type": "stream",
          "name": "stdout",
          "text": [
            "<class 'int'>\n",
            "<class 'float'>\n",
            "<class 'str'>\n",
            "<class 'list'>\n",
            "<class 'tuple'>\n",
            "<class 'dict'>\n",
            "<class 'bool'>\n"
          ]
        }
      ]
    },
    {
      "cell_type": "code",
      "metadata": {
        "colab": {
          "base_uri": "https://localhost:8080/"
        },
        "id": "m4DJyECBNEhu",
        "outputId": "17e4d5ba-c8ff-4403-bbbc-90ada927c8b4"
      },
      "source": [
        "# Comando 'round' --> Arredondar valores\n",
        "\n",
        "Valor_Exemplo = 12.123456789\n",
        "\n",
        "print( round( Valor_Exemplo, 2) )"
      ],
      "execution_count": null,
      "outputs": [
        {
          "output_type": "stream",
          "name": "stdout",
          "text": [
            "12.12\n"
          ]
        }
      ]
    },
    {
      "cell_type": "code",
      "metadata": {
        "colab": {
          "base_uri": "https://localhost:8080/"
        },
        "id": "QgGGoZpkNnGG",
        "outputId": "9699aa65-2d94-410e-c669-afb7e3d6457d"
      },
      "source": [
        "# Comando 'input' \n",
        "# Enviar informações\n",
        "\n",
        "Nome = input( 'Qual seu nome?' )\n",
        "\n",
        "print('Seu nome é {}'.format(Nome) )"
      ],
      "execution_count": null,
      "outputs": [
        {
          "output_type": "stream",
          "name": "stdout",
          "text": [
            "Qual seu nome?Odemir\n",
            "Seu nome é Odemir\n"
          ]
        }
      ]
    },
    {
      "cell_type": "code",
      "metadata": {
        "colab": {
          "base_uri": "https://localhost:8080/"
        },
        "id": "PdUVz514OD-y",
        "outputId": "9b131b93-bbf6-4d23-9c77-1bb16ccdd8a0"
      },
      "source": [
        "# Operadores de comparação - Parte 1\n",
        "\n",
        "Igual = '=='\n",
        "Diferente = '!='\n",
        "Maior = '>'\n",
        "Menor = '<'\n",
        "Maior_Igual = '>='\n",
        "Menor_Igual = '<='\n",
        "\n",
        "print('8 é maior que 7: ', 8 > 7)\n",
        "print('8 é menor que 7: ', 8 < 7)\n",
        "print('8 é igual a 8: ', 8 == 8)\n",
        "print('8 é diferente de 8: ', 8 != 8)"
      ],
      "execution_count": null,
      "outputs": [
        {
          "output_type": "stream",
          "name": "stdout",
          "text": [
            "8 é maior que 7:  True\n",
            "8 é menor que 7:  False\n",
            "8 é igual a 8:  True\n",
            "8 é diferente de 8:  False\n"
          ]
        }
      ]
    },
    {
      "cell_type": "code",
      "metadata": {
        "colab": {
          "base_uri": "https://localhost:8080/"
        },
        "id": "5dUG-f7xPpYs",
        "outputId": "bda6596a-aa43-4646-e80e-0c47d77aa546"
      },
      "source": [
        "# Operadores de comparação - Parte 2\n",
        "\n",
        "And = 'e'\n",
        "Ou = 'or'\n",
        "Negação = 'not'\n",
        "Dentro = 'in'\n",
        "\n",
        "print('8 é maior que 7 e 7 é maior 6:', 8 > 7 and 7 > 6 )\n",
        "print('8 é maior que 7 e 7 é menor 6:', 8 > 7 and 7 < 6 )\n",
        "\n",
        "print('8 é maior que 7 ou 7 é menor 8:', 8 > 7 or 7 > 6 )\n",
        "\n",
        "print('8 não esta nessa lista:', 8 not in [8, 9, 10] )\n",
        "print('8 não esta nessa lista:', 8 in [8, 9, 10] )"
      ],
      "execution_count": null,
      "outputs": [
        {
          "output_type": "stream",
          "name": "stdout",
          "text": [
            "8 é maior que 7 e 7 é maior 6: True\n",
            "8 é maior que 7 e 7 é menor 6: False\n",
            "8 é maior que 7 ou 7 é menor 8: True\n",
            "8 não esta nessa lista: False\n",
            "8 não esta nessa lista: True\n"
          ]
        }
      ]
    },
    {
      "cell_type": "code",
      "metadata": {
        "colab": {
          "base_uri": "https://localhost:8080/"
        },
        "id": "_xeZZiOnQCZS",
        "outputId": "4d5a3e40-f3d4-498b-9da0-2750caabe38b"
      },
      "source": [
        "# Manipular Listas\n",
        "Lista_Vazia = []\n",
        "\n",
        "print( Lista_Vazia )\n",
        "\n",
        "Lista_Vazia.append( 1 )\n",
        "Lista_Vazia.append( 'Odemir' )\n",
        "Lista_Vazia.append( False )\n",
        "\n",
        "print('Depois:', Lista_Vazia )\n",
        "\n",
        "# Acessando os valores \n",
        "print('Acessando a primeira posição:', Lista_Vazia[0] )\n",
        "print('Acessando a terceira posição:', Lista_Vazia[2] )\n",
        "print('Acessando ultima posição:', Lista_Vazia[-1] )\n",
        "print('Acessando um intervalo:', Lista_Vazia[0:2] )\n",
        "\n",
        "# Excluir um valor\n",
        "del Lista_Vazia[-1]\n",
        "print( Lista_Vazia )\n",
        "\n",
        "# Limpa lista\n",
        "print( Lista_Vazia.clear() )"
      ],
      "execution_count": null,
      "outputs": [
        {
          "output_type": "stream",
          "name": "stdout",
          "text": [
            "[]\n",
            "Depois: [1, 'Odemir', False]\n",
            "Acessando a primeira posição: 1\n",
            "Acessando a terceira posição: False\n",
            "Acessando ultima posição: False\n",
            "Acessando um intervalo: [1, 'Odemir']\n",
            "[1, 'Odemir']\n",
            "None\n"
          ]
        }
      ]
    },
    {
      "cell_type": "code",
      "metadata": {
        "colab": {
          "base_uri": "https://localhost:8080/"
        },
        "id": "wEuSUnEFR3_T",
        "outputId": "dfc306f6-6058-4c5c-9fbf-ac052d0e4ff6"
      },
      "source": [
        "# Utlizando funções externa (Libs, Frameworks, Bibliotecas, Funções)\n",
        "\n",
        "# Instalar pacotes externo <<>>\n",
        "# !pip install plotly\n",
        "# pip install plotly\n",
        "\n",
        "from datetime import datetime\n",
        "\n",
        "Data = '16/11/21'\n",
        "print( type(Data) )\n",
        "\n",
        "Conversao = datetime.strptime(Data, '%d/%m/%y')\n",
        "print( type(Conversao) )\n"
      ],
      "execution_count": null,
      "outputs": [
        {
          "output_type": "stream",
          "name": "stdout",
          "text": [
            "<class 'str'>\n",
            "<class 'datetime.datetime'>\n"
          ]
        }
      ]
    },
    {
      "cell_type": "code",
      "metadata": {
        "colab": {
          "base_uri": "https://localhost:8080/"
        },
        "id": "0C7lBWBlUZIx",
        "outputId": "a26418ff-8719-46bd-d8ae-0c06bc1f43eb"
      },
      "source": [
        "# Metodo 'len'\n",
        "# Calcula o tamanho de algo\n",
        "\n",
        "Exemplo = [1, 2, 3, 4, 5, 6, 7, 'Odemir', True]\n",
        "\n",
        "print( len(Exemplo) )"
      ],
      "execution_count": null,
      "outputs": [
        {
          "output_type": "stream",
          "name": "stdout",
          "text": [
            "9\n"
          ]
        }
      ]
    },
    {
      "cell_type": "code",
      "metadata": {
        "colab": {
          "base_uri": "https://localhost:8080/"
        },
        "id": "DdgHiBXZVk4H",
        "outputId": "822b59e9-21f1-426c-c967-13d774433be2"
      },
      "source": [
        "# 1º Exercicio\n",
        "# Calculo do IMC\n",
        "\n",
        "# IMC ( Peso / Altura * Altura )\n",
        "IMC = round( 50 / ( 1.60 * 1.60 ), 2)\n",
        "\n",
        "print('Seu IMC é: {}' .format(IMC) )"
      ],
      "execution_count": null,
      "outputs": [
        {
          "output_type": "stream",
          "name": "stdout",
          "text": [
            "Seu IMC é: 19.53\n"
          ]
        }
      ]
    },
    {
      "cell_type": "code",
      "metadata": {
        "colab": {
          "base_uri": "https://localhost:8080/"
        },
        "id": "nybKRktVWAzo",
        "outputId": "01a4770f-f22d-43c5-e572-7ad4c28d700a"
      },
      "source": [
        "# 2º Exercicios\n",
        "# Calculo juros simples\n",
        "\n",
        "Taxa_Juros = 0.05\n",
        "Investimento = 1000\n",
        "\n",
        "Ganhar = Investimento + ( Investimento * Taxa_Juros )\n",
        "\n",
        "print('Acumulei ao todo:', Ganhar )\n",
        "print('Acumulei de juros:', ( Ganhar - Investimento ) )"
      ],
      "execution_count": null,
      "outputs": [
        {
          "output_type": "stream",
          "name": "stdout",
          "text": [
            "Acumulei ao todo: 1050.0\n",
            "Acumulei de juros: 50.0\n"
          ]
        }
      ]
    },
    {
      "cell_type": "code",
      "metadata": {
        "colab": {
          "base_uri": "https://localhost:8080/"
        },
        "id": "VxQ32d1XXBtT",
        "outputId": "5055f03d-b0d0-478d-9c20-4af79e7162c8"
      },
      "source": [
        "# 3º Exercicios\n",
        "# Sistema de somas\n",
        "\n",
        "Valor_01 = int( input('Digite o valor: ' ))\n",
        "Valor_02 = int( input('Digite o valor: ' ))\n",
        "\n",
        "Soma = Valor_01 + Valor_02\n",
        "\n",
        "print('Soma é:', Soma )"
      ],
      "execution_count": null,
      "outputs": [
        {
          "output_type": "stream",
          "name": "stdout",
          "text": [
            "Digite o valor: 1234567890\n",
            "Digite o valor: 4567890\n",
            "Soma é: 1239135780\n"
          ]
        }
      ]
    },
    {
      "cell_type": "code",
      "metadata": {
        "colab": {
          "base_uri": "https://localhost:8080/"
        },
        "id": "wKrXI4xRXbuD",
        "outputId": "255d57d0-171a-43b4-d404-f75873a344b0"
      },
      "source": [
        "# 4º Exercicios\n",
        "# Criar uma Data\n",
        "\n",
        "Dia = int( input('Qual o dia: '))\n",
        "Mes = int( input('Qual o mes: '))\n",
        "Ano = int( input('Qual o ano: '))\n",
        "\n",
        "Data = str(Dia) + '/' + str(Mes) + '/' + str(Ano)\n",
        "\n",
        "Conversao = datetime.strptime( Data, '%d/%m/%y' )\n",
        "\n",
        "print('Sua data ajustada: ', Conversao )"
      ],
      "execution_count": null,
      "outputs": [
        {
          "output_type": "stream",
          "name": "stdout",
          "text": [
            "Qual o dia: 16\n",
            "Qual o mes: 1\n",
            "Qual o ano: 21\n",
            "Sua data ajustada:  2021-01-16 00:00:00\n"
          ]
        }
      ]
    },
    {
      "cell_type": "code",
      "metadata": {
        "colab": {
          "base_uri": "https://localhost:8080/"
        },
        "id": "TtwMhw5TYNZs",
        "outputId": "606060aa-fa70-4ede-e069-a1f6be013cbd"
      },
      "source": [
        "# 5º Exercicios\n",
        "# Calcular metro quadrado\n",
        "\n",
        "Altura = float( input('Qual a altura: '))\n",
        "Largura = float( input('Qual a Largura: '))\n",
        "Quadrado = Altura * Largura\n",
        "\n",
        "print('O metro quadrado é: {}'.format(Quadrado) )"
      ],
      "execution_count": null,
      "outputs": [
        {
          "output_type": "stream",
          "name": "stdout",
          "text": [
            "Qual a altura: 2.8\n",
            "Qual a Largura: 5.8\n",
            "O metro quadrado é: 16.24\n"
          ]
        }
      ]
    },
    {
      "cell_type": "code",
      "metadata": {
        "colab": {
          "base_uri": "https://localhost:8080/"
        },
        "id": "7OVfsE2ZYvtL",
        "outputId": "65a6cb03-b427-48f3-d9c9-a0cd5552109b"
      },
      "source": [
        "# 8º Exercicios\n",
        "# Sistema de RH\n",
        "\n",
        "Salario = float( input('Qual seu sálario: ') )\n",
        "\n",
        "# Variaveis de Desconto\n",
        "INSS = 0.11\n",
        "Vale_Refeicao = 0.02\n",
        "Vale_Transporte = 0.08\n",
        "IR = 0.08\n",
        "\n",
        "# Organizar os dados\n",
        "Dicionario = {\n",
        "    'INSS': Salario * INSS,\n",
        "    'Vale Refeição': Salario * Vale_Refeicao,\n",
        "    'Vale Transporte': Salario * Vale_Transporte,\n",
        "    'Imposto de Renda': Salario * IR\n",
        "}\n",
        "\n",
        "# Calculo do Debito\n",
        "Debito = Dicionario['INSS'] + Dicionario['Vale Refeição'] + Dicionario['Vale Transporte'] + Dicionario['Imposto de Renda']\n",
        "\n",
        "# Calculo do Liquido\n",
        "Liquido = Salario - Debito\n",
        "\n",
        "print('Salario informado:', Salario )\n",
        "print('\\n') # Pula linha\n",
        "print('Desconto: ', Debito )\n",
        "print('Liquido:', Liquido )"
      ],
      "execution_count": null,
      "outputs": [
        {
          "output_type": "stream",
          "name": "stdout",
          "text": [
            "Qual seu sálario: 25000\n",
            "Salario informado: 25000.0\n",
            "\n",
            "\n",
            "Desconto:  7250.0\n",
            "Liquido: 17750.0\n"
          ]
        }
      ]
    },
    {
      "cell_type": "code",
      "metadata": {
        "colab": {
          "base_uri": "https://localhost:8080/"
        },
        "id": "drZERSzCatzt",
        "outputId": "9ea01268-90a4-4788-b96c-666cd14ac213"
      },
      "source": [
        "Dicionario"
      ],
      "execution_count": null,
      "outputs": [
        {
          "output_type": "execute_result",
          "data": {
            "text/plain": [
              "{'INSS': 2750.0,\n",
              " 'Imposto de Renda': 2000.0,\n",
              " 'Vale Refeição': 500.0,\n",
              " 'Vale Transporte': 2000.0}"
            ]
          },
          "metadata": {},
          "execution_count": 79
        }
      ]
    },
    {
      "cell_type": "code",
      "metadata": {
        "colab": {
          "base_uri": "https://localhost:8080/"
        },
        "id": "tGz7BQDJacdZ",
        "outputId": "a3a1e658-8c5d-4708-8cc5-327e08207523"
      },
      "source": [
        "Dicionario_02 = Dicionario\n",
        "\n",
        "Dicionario_02['Desconto'] = Debito\n",
        "Dicionario_02['Liquido'] = Liquido\n",
        "Dicionario_02['Salario'] = Salario\n",
        "\n",
        "Dicionario_02"
      ],
      "execution_count": null,
      "outputs": [
        {
          "output_type": "execute_result",
          "data": {
            "text/plain": [
              "{'Desconto': 7250.0,\n",
              " 'INSS': 2750.0,\n",
              " 'Imposto de Renda': 2000.0,\n",
              " 'Liquido': 17750.0,\n",
              " 'Salario': 25000.0,\n",
              " 'Vale Refeição': 500.0,\n",
              " 'Vale Transporte': 2000.0}"
            ]
          },
          "metadata": {},
          "execution_count": 80
        }
      ]
    },
    {
      "cell_type": "code",
      "metadata": {
        "colab": {
          "base_uri": "https://localhost:8080/",
          "height": 81
        },
        "id": "zCSFhaoJa4_-",
        "outputId": "f5ecb343-40c9-4e5c-aaf8-81658fb884f0"
      },
      "source": [
        "from pandas import DataFrame\n",
        "\n",
        "Base_Dados = DataFrame( Dicionario_02, index=[0] )\n",
        "Base_Dados"
      ],
      "execution_count": null,
      "outputs": [
        {
          "output_type": "execute_result",
          "data": {
            "text/html": [
              "<div>\n",
              "<style scoped>\n",
              "    .dataframe tbody tr th:only-of-type {\n",
              "        vertical-align: middle;\n",
              "    }\n",
              "\n",
              "    .dataframe tbody tr th {\n",
              "        vertical-align: top;\n",
              "    }\n",
              "\n",
              "    .dataframe thead th {\n",
              "        text-align: right;\n",
              "    }\n",
              "</style>\n",
              "<table border=\"1\" class=\"dataframe\">\n",
              "  <thead>\n",
              "    <tr style=\"text-align: right;\">\n",
              "      <th></th>\n",
              "      <th>INSS</th>\n",
              "      <th>Vale Refeição</th>\n",
              "      <th>Vale Transporte</th>\n",
              "      <th>Imposto de Renda</th>\n",
              "      <th>Desconto</th>\n",
              "      <th>Liquido</th>\n",
              "      <th>Salario</th>\n",
              "    </tr>\n",
              "  </thead>\n",
              "  <tbody>\n",
              "    <tr>\n",
              "      <th>0</th>\n",
              "      <td>2750.0</td>\n",
              "      <td>500.0</td>\n",
              "      <td>2000.0</td>\n",
              "      <td>2000.0</td>\n",
              "      <td>7250.0</td>\n",
              "      <td>17750.0</td>\n",
              "      <td>25000.0</td>\n",
              "    </tr>\n",
              "  </tbody>\n",
              "</table>\n",
              "</div>"
            ],
            "text/plain": [
              "     INSS  Vale Refeição  Vale Transporte  ...  Desconto  Liquido  Salario\n",
              "0  2750.0          500.0           2000.0  ...    7250.0  17750.0  25000.0\n",
              "\n",
              "[1 rows x 7 columns]"
            ]
          },
          "metadata": {},
          "execution_count": 81
        }
      ]
    },
    {
      "cell_type": "code",
      "metadata": {
        "id": "zyr2wE2EbFb7"
      },
      "source": [
        "\n",
        "import pandas as pd\n",
        "\n",
        "Base_Dados.to_excel('Nome_Arquivo.xlsx')"
      ],
      "execution_count": null,
      "outputs": []
    },
    {
      "cell_type": "code",
      "metadata": {
        "id": "s0w93QEgbPq5"
      },
      "source": [],
      "execution_count": null,
      "outputs": []
    }
  ]
}