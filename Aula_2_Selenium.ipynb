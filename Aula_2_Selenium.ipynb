{
  "cells": [
    {
      "cell_type": "markdown",
      "metadata": {
        "id": "686QYIbN6tZK"
      },
      "source": [
        "# More Programming Academy"
      ]
    },
    {
      "cell_type": "markdown",
      "metadata": {
        "id": "6KtVYTm06tZS"
      },
      "source": [
        "### Aula 2: Selenium"
      ]
    },
    {
      "cell_type": "markdown",
      "metadata": {
        "id": "1OP85Oa26tZT"
      },
      "source": [
        "**Professor:** Rodrigo José Rocha dos Santos <br>\n",
        "**Email:** rodrigorocha2612@gmail.com <br>\n",
        "**Linkedin:** https://www.linkedin.com/in/rodrigo-r-b6234a134/ <br>"
      ]
    },
    {
      "cell_type": "markdown",
      "metadata": {
        "id": "nkSR4JLn6tZU"
      },
      "source": [
        "## 1 - Selenium"
      ]
    },
    {
      "cell_type": "markdown",
      "metadata": {
        "id": "w2OEmU996tZU"
      },
      "source": [
        "<img src=\"https://camo.githubusercontent.com/a58601f5f61b883cff2da374ec3e1b1b14596a5083ffb4e2dcbd8c0fb8e4fca3/68747470733a2f2f73656c656e69756d2d707974686f6e2e636f6d2f77702d636f6e74656e742f75706c6f6164732f323031372f31312f63726f707065642d6c6f676f2d6d696e692e706e67\" width=\"500\">"
      ]
    },
    {
      "cell_type": "markdown",
      "metadata": {
        "id": "CRfPOCY16tZU"
      },
      "source": [
        "### 1.1 O que é Selenium?"
      ]
    },
    {
      "cell_type": "markdown",
      "metadata": {
        "id": "GJgDp5Ps6tZV"
      },
      "source": [
        "Ao contrário do que normalente se pensa, o selenium não é uma biblioteca de webscraping e sim de testes automatizados. Entretanto ele é bem viável para utilizamos para automatizar a captura de dados na internet."
      ]
    },
    {
      "cell_type": "markdown",
      "metadata": {
        "id": "yIV8cSnM6tZV"
      },
      "source": [
        "### 1.2 Primeiros passos?"
      ]
    },
    {
      "cell_type": "markdown",
      "metadata": {
        "id": "Uo5hVQT36tZV"
      },
      "source": [
        "Primeiro nós precisaremos saber qual navegador e versão que nós vamos utilizar."
      ]
    },
    {
      "cell_type": "markdown",
      "metadata": {
        "id": "dEg2TkXA6tZV"
      },
      "source": [
        "**Google Chrome:** Configuração -> Sobre o Google Chrome <br>\n",
        "**FireFox:** Ajuda -> Sobre o Firefox"
      ]
    },
    {
      "cell_type": "markdown",
      "metadata": {
        "id": "a_CflkMt6tZW"
      },
      "source": [
        "Agora, sabendo qual o navegador e versão vamos utilizar é necessário baixarmos a versão automatizada dele."
      ]
    },
    {
      "cell_type": "markdown",
      "metadata": {
        "id": "mzDt5tmo6tZW"
      },
      "source": [
        "Google Chrome: https://chromedriver.chromium.org/downloads <br>\n",
        "Firefox: https://github.com/mozilla/geckodriver/releases <br>\n",
        "Opera: https://github.com/operasoftware/operachromiumdriver/releases <br>\n",
        "Edge: https://developer.microsoft.com/en-us/microsoft-edge/tools/webdriver/"
      ]
    },
    {
      "cell_type": "markdown",
      "metadata": {
        "id": "9f7KYu2w6tZW"
      },
      "source": [
        "### 1.3 Importando, primeira utilização e configuração"
      ]
    },
    {
      "cell_type": "code",
      "execution_count": null,
      "metadata": {
        "id": "UlSoO7Qe6tZW"
      },
      "outputs": [],
      "source": [
        "# Importa a biblioteca que iremos utilizar\n",
        "from selenium import webdriver"
      ]
    },
    {
      "cell_type": "code",
      "execution_count": null,
      "metadata": {
        "id": "DYnyTuC16tZX"
      },
      "outputs": [],
      "source": [
        "# Importa a parte de opções do navegador\n",
        "from selenium.webdriver.firefox.options import Options\n",
        "# Preferências do navegador\n",
        "profile = Options()\n",
        "#Configura o local para download\n",
        "profile.set_preference('browser.download.folderList', 2) \n",
        "# 0 -> Salva todos os arquivos no desktop\n",
        "# 1 -> Salva todos os arquivos na pasta de download\n",
        "# 2 -> Salva arquivos na última pasta utilizada\n",
        "\n",
        "# Não mostra popuop para salvar arquivos\n",
        "profile.set_preference('browser.download.manager.showWhenStarting', False)\n",
        "# Define a pasta a ser utilizada para salvar arquivos\n",
        "profile.set_preference('browser.download.dir', r'E:\\Clouds\\OneDrive - Universidade Federal de Pernambuco\\Python\\Aulas\\Curso More Programming Academy\\4 - Web Scraping 15-07-2022\\Aula 2 - Selenium')\n",
        "# Define UserAgente (podendo utilizar um navegador e se passar por outro ou até mesmo um dispositivo diferente)\n",
        "profile.set_preference('general.useragent.override','Mozilla/5.0 (Linux; U; Android 4.0.4; en-gb; GT-I9300 Build/IMM76D) AppleWebKit/534.30 (KHTML, like Gecko) Version/4.0 Mobile Safari/534.30')\n",
        "# Definir tamanho da janela\n",
        "# profile.set_preference(\"--window-size=1920,1080\")\n",
        "# Abrir em background\n",
        "profile.headless = False\n"
      ]
    },
    {
      "cell_type": "code",
      "execution_count": null,
      "metadata": {
        "id": "0jPOD4mg6tZX"
      },
      "outputs": [],
      "source": [
        "# Inicia o navegador com as opções\n",
        "driver = webdriver.Firefox(options=profile)"
      ]
    },
    {
      "cell_type": "code",
      "execution_count": null,
      "metadata": {
        "id": "AFVVTAmn6tZY"
      },
      "outputs": [],
      "source": [
        "# Carrega o site\n",
        "driver.get('https://yotube.com')"
      ]
    },
    {
      "cell_type": "code",
      "execution_count": null,
      "metadata": {
        "id": "w51UJi7G6tZY"
      },
      "outputs": [],
      "source": [
        "# Mostra a atual URL da página\n",
        "driver.current_url"
      ]
    },
    {
      "cell_type": "markdown",
      "metadata": {
        "id": "uhWNAknB6tZY"
      },
      "source": [
        "**Encontrando elementos**"
      ]
    },
    {
      "cell_type": "code",
      "execution_count": null,
      "metadata": {
        "id": "TVfDWTQz6tZY"
      },
      "outputs": [],
      "source": [
        "# Importa a parte de localização de elementos na página\n",
        "from selenium.webdriver.common.by import By"
      ]
    },
    {
      "cell_type": "markdown",
      "metadata": {
        "id": "MjFaXrqB6tZY"
      },
      "source": [
        "ID = \"id\" <br>\n",
        "XPATH = \"xpath\" <br>\n",
        "LINK_TEXT = \"link text\" <br>\n",
        "PARTIAL_LINK_TEXT = \"partial link text\" <br>\n",
        "NAME = \"name\" <br>\n",
        "TAG_NAME = \"tag name\" <br>\n",
        "CLASS_NAME = \"class name\" <br>\n",
        "CSS_SELECTOR = \"css selector\" <br>"
      ]
    },
    {
      "cell_type": "markdown",
      "metadata": {
        "id": "1FeTx6yQ6tZZ"
      },
      "source": [
        "As formas mais utilizadas para localizar o elemento é: ID, CLASS, CSS_SELECTOR, XPATH"
      ]
    },
    {
      "cell_type": "code",
      "execution_count": null,
      "metadata": {
        "id": "yr8vq5836tZZ"
      },
      "outputs": [],
      "source": [
        "# Tentando achar uma tag que tenha o meu nome no atributo name (mudei a página manualmente)\n",
        "driver.find_element(By.NAME,'Rodrigo').get_attribute('src')"
      ]
    },
    {
      "cell_type": "code",
      "execution_count": null,
      "metadata": {
        "id": "GttETBQf6tZZ"
      },
      "outputs": [],
      "source": [
        "driver.find_element(By.ID,'contents').text"
      ]
    },
    {
      "cell_type": "markdown",
      "metadata": {
        "id": "aHtpFq926tZZ"
      },
      "source": [
        "**Um pouco mais sobre XPATH** "
      ]
    },
    {
      "cell_type": "code",
      "execution_count": null,
      "metadata": {
        "id": "q1zWbnzn6tZZ"
      },
      "outputs": [],
      "source": [
        "# Importa a parte de emular ações no teclado\n",
        "# Link com todas as KEYS\n",
        "# https://github.com/SeleniumHQ/selenium/blob/selenium-4.2.0/py/selenium/webdriver/common/keys.py#L23\n",
        "from selenium.webdriver.common.keys import Keys"
      ]
    },
    {
      "cell_type": "code",
      "execution_count": null,
      "metadata": {
        "id": "tzHZ-K3W6tZa"
      },
      "outputs": [],
      "source": [
        "driver.get('https://www.amazon.com.br/')"
      ]
    },
    {
      "cell_type": "code",
      "execution_count": null,
      "metadata": {
        "id": "m3b2OgPc6tZa"
      },
      "outputs": [],
      "source": [
        "search_input = driver.find_element(By.XPATH,\"//input[@id='nav-search-keywords']\")\n",
        "# Limpa o campo de pesquisa\n",
        "search_input.clear()\n",
        "# Digita o texto \"Livros\"\n",
        "search_input.send_keys('Livros')\n",
        "# Envia o comando Enter\n",
        "search_input.send_keys(Keys.ENTER)\n",
        "#or\n",
        "#search_input.submit()"
      ]
    },
    {
      "cell_type": "code",
      "execution_count": null,
      "metadata": {
        "id": "bTTzPt2h6tZa"
      },
      "outputs": [],
      "source": [
        "# Salvando um print da tela\n",
        "with open('img.png','wb') as img:\n",
        "    img.write(driver.find_element(By.XPATH,'/html/body/div[1]/div[1]/span[3]/div[2]/div[10]/div/div').screenshot_as_png)"
      ]
    },
    {
      "cell_type": "code",
      "execution_count": null,
      "metadata": {
        "id": "rb_KB4026tZa"
      },
      "outputs": [],
      "source": [
        "# Lista todos os livros da página\n",
        "book_links = list(map(lambda x: x.get_attribute('href'),driver.find_elements(By.XPATH,\"//div[@class='sg-col-inner']/div[1]/span[1]/a[@title='product-detail']\")))"
      ]
    },
    {
      "cell_type": "code",
      "execution_count": null,
      "metadata": {
        "id": "P3_DWH2W6tZa"
      },
      "outputs": [],
      "source": [
        "# Como executar um comando JavaScrpit no navegador\n",
        "driver.execute_script(\"window.open('https://www.google.com', '_blank');\");"
      ]
    },
    {
      "cell_type": "code",
      "execution_count": null,
      "metadata": {
        "id": "Gmv68MGo6tZa"
      },
      "outputs": [],
      "source": [
        "driver.current_url"
      ]
    },
    {
      "cell_type": "code",
      "execution_count": null,
      "metadata": {
        "id": "GRzyfLEA6tZb"
      },
      "outputs": [],
      "source": [
        "# Mostra o código das abas abertas\n",
        "driver.window_handles"
      ]
    },
    {
      "cell_type": "code",
      "execution_count": null,
      "metadata": {
        "id": "7vjVRPGU6tZb"
      },
      "outputs": [],
      "source": [
        "# O código da aba atual\n",
        "home = driver.current_window_handle"
      ]
    },
    {
      "cell_type": "code",
      "execution_count": null,
      "metadata": {
        "id": "8YYBx1kF6tZb"
      },
      "outputs": [],
      "source": [
        "# O código da segunda aba\n",
        "new_tabe = driver.window_handles[1]"
      ]
    },
    {
      "cell_type": "code",
      "execution_count": null,
      "metadata": {
        "id": "N2mmQWUG6tZb"
      },
      "outputs": [],
      "source": [
        "# Muda a aba que vai receber o comando\n",
        "driver.switch_to.window(new_tabe)"
      ]
    },
    {
      "cell_type": "code",
      "execution_count": null,
      "metadata": {
        "id": "wpDrQ7al6tZb"
      },
      "outputs": [],
      "source": [
        "driver.current_url"
      ]
    },
    {
      "cell_type": "code",
      "execution_count": null,
      "metadata": {
        "id": "gO77gO8x6tZb"
      },
      "outputs": [],
      "source": [
        "# Faz algumas verificação de lementos na página, se ele está visível, se existe ou não, se é clicável\n",
        "# Todas as opções possíveis\n",
        "# https://selenium-python.readthedocs.io/api.html?highlight=expected_conditions#module-selenium.webdriver.support.expected_conditions\n",
        "from selenium.webdriver.support import expected_conditions as EC\n",
        "# Objeto responsável por fazer o código esperar alguma ação\n",
        "# Todas as opções possíveis\n",
        "# https://selenium-python.readthedocs.io/waits.html\n",
        "from selenium.webdriver.support.ui import WebDriverWait\n",
        "import time\n",
        "import re"
      ]
    },
    {
      "cell_type": "code",
      "execution_count": null,
      "metadata": {
        "id": "MxCfvmAM6tZb"
      },
      "outputs": [],
      "source": [
        "# Essa função é responsável por travar o código ate que determinado elemento apareça\n",
        "def wait_element_load(driver,xpath,time):\n",
        "    # Cria try pra tratar o erro, se o item não for carregado até o tmepo determinado\n",
        "    try:\n",
        "        # Espera até o elemento carregar ou o tempo acabar, se o tempo acabar dispara o erro\n",
        "        element = WebDriverWait(driver, time).until(\n",
        "            EC.presence_of_element_located((By.XPATH,xpath))\n",
        "        )\n",
        "        #print('Element Loaded')\n",
        "    except:\n",
        "        # Mostra esse texto caso o elemento não carregue no tempo determinado\n",
        "        print(\"Element didn't load\")"
      ]
    },
    {
      "cell_type": "code",
      "execution_count": null,
      "metadata": {
        "id": "YhPun4GH6tZc"
      },
      "outputs": [],
      "source": [
        "# Aqui nós temos todo o código responsável por pegar os dados\n",
        "all_book = []\n",
        "pg=0\n",
        "# Nós utilizamos o While para casos onde não sabemos a quantidade paginas que vão ser carregadas\n",
        "while True:\n",
        "    pg+=1\n",
        "    \n",
        "    # Muda pra página principal \n",
        "    driver.switch_to.window(home)\n",
        "    time.sleep(1)\n",
        "    \n",
        "    # Pega todos os links de livros\n",
        "    book_links = list(map(lambda x: x.get_attribute('href'),driver.find_elements(By.XPATH,\"//div[@class='sg-col-inner']/div[1]/span[1]/a[@title='product-detail']\")))\n",
        "    # Clica na próxima página\n",
        "    driver.find_element(By.XPATH,'//ul[@class=\"a-pagination\"]/li[2]/a').click()\n",
        "    # Vai pra segunda aba\n",
        "    driver.switch_to.window(new_tabe)\n",
        "    book_c = 0\n",
        "    # Percorre todos o links de livros\n",
        "    for i in book_links:\n",
        "        book_c+=1\n",
        "        # Dict para armazenar as informações dos livros\n",
        "        actual_book = {}\n",
        "        driver.get(i)\n",
        "        # Espera o título do livro carregar\n",
        "        wait_element_load(driver,\"//h1[@id='title'] | //span[@id='ebooksTitle']\",10)\n",
        "        # Pega o nome do livro\n",
        "        actual_book['title_book'] = driver.find_element(By.XPATH,\"//h1[@id='title'] | //span[@id='ebooksTitle']\").text\n",
        "        # Torna o texto da avaliação visível\n",
        "        driver.execute_script('document.getElementsByClassName(\"a-icon-alt\")[0].classList.remove(\"a-icon-alt\")');\n",
        "        # Pega a avaliação do produto\n",
        "        actual_book['star_book'] = float(driver.find_element(By.XPATH,'*//a[@id=\"acrCustomerReviewLink\"]/i/span[1]').text.split(' de ')[0].replace(',','.'))\n",
        "        # A quantidade de reviwes\n",
        "        actual_book['reviews'] = int(re.sub('\\D','',driver.find_element(By.XPATH,\"//span[@class='a-size-base cm-cr-review-stars-text-md']\").text))\n",
        "        # Adiciona a lista de registros\n",
        "        all_book.append(actual_book)\n",
        "        time.sleep(2)\n",
        "        print('PG:',pg,' | BOOK:',book_c)"
      ]
    },
    {
      "cell_type": "code",
      "execution_count": null,
      "metadata": {
        "id": "cCosW51X6tZc"
      },
      "outputs": [],
      "source": [
        "import pandas as pd"
      ]
    },
    {
      "cell_type": "code",
      "execution_count": null,
      "metadata": {
        "id": "R1nmF-ZU6tZc"
      },
      "outputs": [],
      "source": [
        "pd.DataFrame(all_book).info()"
      ]
    },
    {
      "cell_type": "markdown",
      "metadata": {
        "id": "RhHM934R6tZc"
      },
      "source": [
        "**Como lidar com alertas e iframe**"
      ]
    },
    {
      "cell_type": "code",
      "execution_count": null,
      "metadata": {
        "id": "n_uUT4tn6tZc"
      },
      "outputs": [],
      "source": [
        "# Fecha a aba\n",
        "driver.quit()"
      ]
    },
    {
      "cell_type": "code",
      "execution_count": null,
      "metadata": {
        "id": "uVf2IKk66tZd"
      },
      "outputs": [],
      "source": [
        "driver = webdriver.Firefox(options=profile)"
      ]
    },
    {
      "cell_type": "code",
      "execution_count": null,
      "metadata": {
        "id": "idK1n8GL6tZd"
      },
      "outputs": [],
      "source": [
        "driver.get('https://www.w3schools.com/jsref/tryit.asp?filename=tryjsref_alert2')"
      ]
    },
    {
      "cell_type": "code",
      "execution_count": null,
      "metadata": {
        "id": "OTMuH6Sq6tZd"
      },
      "outputs": [],
      "source": [
        "iframe = driver.find_element(By.XPATH,\"//*[@id='iframeResult']\")"
      ]
    },
    {
      "cell_type": "code",
      "execution_count": null,
      "metadata": {
        "id": "2LGwUjVx6tZd"
      },
      "outputs": [],
      "source": [
        "# Muda o local do comando o espaço que está com o botão\n",
        "driver.switch_to.frame(iframe)"
      ]
    },
    {
      "cell_type": "code",
      "execution_count": null,
      "metadata": {
        "id": "bnENe-tE6tZd"
      },
      "outputs": [],
      "source": [
        "driver.find_element(By.XPATH,'//body/button').click()"
      ]
    },
    {
      "cell_type": "code",
      "execution_count": null,
      "metadata": {
        "id": "5knbxCZC6tZd"
      },
      "outputs": [],
      "source": [
        "# Verifica se o alerta está presente\n",
        "EC.alert_is_present()"
      ]
    },
    {
      "cell_type": "code",
      "execution_count": null,
      "metadata": {
        "id": "zc4TqeUb6tZd"
      },
      "outputs": [],
      "source": [
        "# Muda o local de execução dos comandos para o alert\n",
        "alert = driver.switch_to.alert"
      ]
    },
    {
      "cell_type": "code",
      "execution_count": null,
      "metadata": {
        "id": "3Om7i5fX6tZe"
      },
      "outputs": [],
      "source": [
        "# Mostra o texto do alert\n",
        "alert.text"
      ]
    },
    {
      "cell_type": "code",
      "execution_count": null,
      "metadata": {
        "id": "i769YtvT6tZe"
      },
      "outputs": [],
      "source": [
        "# Recusa o Alert (Fecha)\n",
        "alert.dismiss()"
      ]
    },
    {
      "cell_type": "code",
      "execution_count": null,
      "metadata": {
        "id": "14ojQrg46tZe"
      },
      "outputs": [],
      "source": [
        "driver.find_element(By.XPATH,'/html/body/h2').text"
      ]
    },
    {
      "cell_type": "code",
      "execution_count": null,
      "metadata": {
        "id": "0CTNZTfk6tZe"
      },
      "outputs": [],
      "source": [
        "# Volta para página principal\n",
        "driver.switch_to.default_content()"
      ]
    },
    {
      "cell_type": "code",
      "execution_count": null,
      "metadata": {
        "id": "OQT7wW6Z6tZe"
      },
      "outputs": [],
      "source": [
        "driver.find_element(By.XPATH,'//*[@id=\"framesize\"]').text"
      ]
    },
    {
      "cell_type": "markdown",
      "metadata": {
        "id": "4HgBd1bv6tZe"
      },
      "source": [
        "**Voltar e Ir para Frente**"
      ]
    },
    {
      "cell_type": "code",
      "execution_count": null,
      "metadata": {
        "id": "b62eQ07P6tZe"
      },
      "outputs": [],
      "source": [
        "driver.get('https://www.google.com')"
      ]
    },
    {
      "cell_type": "code",
      "execution_count": null,
      "metadata": {
        "id": "1yoXwpmi6tZf"
      },
      "outputs": [],
      "source": [
        "# Volta para pagina anterior\n",
        "driver.back()"
      ]
    },
    {
      "cell_type": "code",
      "execution_count": null,
      "metadata": {
        "id": "EHsYqlV-6tZg"
      },
      "outputs": [],
      "source": [
        "# Vai pra próxima página\n",
        "driver.forward()"
      ]
    },
    {
      "cell_type": "markdown",
      "metadata": {
        "id": "rdOmR2-I6tZk"
      },
      "source": [
        "## 1.4 Bônus (Selenium-Wire)"
      ]
    },
    {
      "cell_type": "code",
      "execution_count": null,
      "metadata": {
        "id": "Cxc2pm-a6tZr"
      },
      "outputs": [],
      "source": [
        "# Biblioteca do Selenium modificado\n",
        "from seleniumwire import webdriver as wire"
      ]
    },
    {
      "cell_type": "markdown",
      "metadata": {
        "id": "s9xR6zgd6tZr"
      },
      "source": [
        "**Configuração Proxy**"
      ]
    },
    {
      "cell_type": "code",
      "execution_count": null,
      "metadata": {
        "id": "nFmfrw386tZr"
      },
      "outputs": [],
      "source": [
        "# Coloca as informações da proxy em uma string\n",
        "formated_proxy = \"http://{}:{}@{}:{}\".format('dfkoheawhh','9ix4wogikeeyhhh','209.127.191.180','9279')"
      ]
    },
    {
      "cell_type": "code",
      "execution_count": null,
      "metadata": {
        "id": "X6qOoBF76tZs"
      },
      "outputs": [],
      "source": [
        "# Passa pra um dict\n",
        "seleniumwire_options = {\n",
        "                \"proxy\": {\"http\": formated_proxy, \"https\": formated_proxy, \"no_proxy\": formated_proxy}\n",
        "            }"
      ]
    },
    {
      "cell_type": "code",
      "execution_count": null,
      "metadata": {
        "id": "bmVsG4wd6tZs"
      },
      "outputs": [],
      "source": [
        "# Abre o navegador com a cinfugação\n",
        "driver = wire.Firefox(seleniumwire_options=seleniumwire_options)"
      ]
    },
    {
      "cell_type": "code",
      "execution_count": null,
      "metadata": {
        "id": "nmWEQBr86tZs"
      },
      "outputs": [],
      "source": [
        "# Não permite que esses links sejam carregados\n",
        "def interceptor(request):\n",
        "    if request.path.endswith(('.png', '.jpg','.css','.gif')):\n",
        "        request.abort()\n",
        "    elif 'google' in request.url or 'yahoo.com' in request.url:\n",
        "        request.abort()\n",
        "    elif 'connect.facebook.net' in request.url:\n",
        "        request.abort()\n",
        "    elif 'www.google-analytics.com' in request.url:\n",
        "        request.abort()\n",
        "    elif 'www.googletagmanager.com' in request.url:\n",
        "        request.abort()"
      ]
    },
    {
      "cell_type": "code",
      "execution_count": null,
      "metadata": {
        "id": "jburSmkK6tZs"
      },
      "outputs": [],
      "source": [
        "# Seta o interceptor dos links\n",
        "driver.request_interceptor = interceptor"
      ]
    },
    {
      "cell_type": "code",
      "execution_count": null,
      "metadata": {
        "id": "8W0bINT16tZs"
      },
      "outputs": [],
      "source": [
        "driver.get('https://meuip.com.br/')"
      ]
    },
    {
      "cell_type": "code",
      "execution_count": null,
      "metadata": {
        "id": "4_Y4O_xO6tZt"
      },
      "outputs": [],
      "source": [
        "driver = wire.Firefox()"
      ]
    },
    {
      "cell_type": "code",
      "execution_count": null,
      "metadata": {
        "id": "OawpYiiP6tZt"
      },
      "outputs": [],
      "source": [
        "driver.get('https://pe.olx.com.br/autos-e-pecas/carros-vans-e-utilitarios?q=gol')"
      ]
    },
    {
      "cell_type": "code",
      "execution_count": null,
      "metadata": {
        "id": "Y8qzuyiy6tZt"
      },
      "outputs": [],
      "source": [
        "carros = driver.find_elements(By.XPATH,'//a[@data-lurker-detail=\"list_id\"]')"
      ]
    },
    {
      "cell_type": "code",
      "execution_count": null,
      "metadata": {
        "id": "t-lha1ZJ6tZt"
      },
      "outputs": [],
      "source": [
        "list_carros = list(map(lambda x: x.get_attribute('href'),carros))"
      ]
    },
    {
      "cell_type": "code",
      "execution_count": null,
      "metadata": {
        "id": "3ZN7WPhK6tZt"
      },
      "outputs": [],
      "source": [
        "driver.execute_script(\"window.open('https://www.google.com', '_blank');\");"
      ]
    },
    {
      "cell_type": "code",
      "execution_count": null,
      "metadata": {
        "id": "uRnpPp2B6tZt"
      },
      "outputs": [],
      "source": [
        "driver.window_handles"
      ]
    },
    {
      "cell_type": "code",
      "execution_count": null,
      "metadata": {
        "id": "SFDJoqR36tZt"
      },
      "outputs": [],
      "source": [
        "home = driver.current_window_handle"
      ]
    },
    {
      "cell_type": "code",
      "execution_count": null,
      "metadata": {
        "id": "KO7G6Zcv6tZu"
      },
      "outputs": [],
      "source": [
        "new_tabe = driver.window_handles[1]"
      ]
    },
    {
      "cell_type": "code",
      "execution_count": null,
      "metadata": {
        "id": "4tNl2hOH6tZu"
      },
      "outputs": [],
      "source": [
        "driver.switch_to.window(new_tabe)"
      ]
    },
    {
      "cell_type": "code",
      "execution_count": null,
      "metadata": {
        "id": "eYm1-x0L6tZu"
      },
      "outputs": [],
      "source": [
        "b=0\n",
        "for i in list_carros:\n",
        "    b+=1\n",
        "    driver.get(i)\n",
        "    print(i)\n",
        "    if b > 5:\n",
        "        break"
      ]
    },
    {
      "cell_type": "code",
      "execution_count": null,
      "metadata": {
        "id": "b8hKsZzE6tZu"
      },
      "outputs": [],
      "source": [
        "from seleniumwire.utils import decode"
      ]
    },
    {
      "cell_type": "code",
      "execution_count": null,
      "metadata": {
        "id": "DdtqUj6_6tZu"
      },
      "outputs": [],
      "source": [
        "from bs4 import BeautifulSoup as bs"
      ]
    },
    {
      "cell_type": "code",
      "execution_count": null,
      "metadata": {
        "id": "z1er955h6tZu"
      },
      "outputs": [],
      "source": [
        "import json"
      ]
    },
    {
      "cell_type": "code",
      "execution_count": null,
      "metadata": {
        "id": "824U-C666tZv"
      },
      "outputs": [],
      "source": [
        "# Pega todas as informações das requisições realizadas\n",
        "for i in driver.requests:\n",
        "    # Filtra apenas as requisições referentes a carros\n",
        "    if 'https://pe.olx.com.br' in i.url and 'gol-' in i.url:\n",
        "        # Mostra o método que foi utilizado\n",
        "        print(i.method)\n",
        "        # Mostra a URL\n",
        "        print(i.url)\n",
        "        # Mostra o cabeçalho da requisição\n",
        "        #print(i.headers)\n",
        "        # Mostra o corpo da requisição\n",
        "        print(i.body)\n",
        "        print(i.response)\n",
        "        print(i.params)\n",
        "        print('------')\n",
        "        '''source_page = bs(decode(i.response.body,i.response.headers.get('Content-Encoding', 'identity')))\n",
        "        print(source_page.find('h2',attrs={'class':'sc-ifAKCX'}).text)'''\n",
        "        print('************')\n",
        "        \n",
        "    #Detalhe Conseguimos pegar jsons\n",
        "    if 'prada-api.olx.com.br' in i.url:\n",
        "        print(json.loads(decode(i.response.body,i.response.headers.get('Content-Encoding', 'identity')))['locationDataFromZipCode'])\n",
        "        print('############')"
      ]
    },
    {
      "cell_type": "code",
      "execution_count": null,
      "metadata": {
        "id": "PWFI8K7v6tZv"
      },
      "outputs": [],
      "source": [
        "driver.requests"
      ]
    }
  ],
  "metadata": {
    "authors": [
      {
        "name": "Rodrigo José Rocha dos Santos"
      },
      {
        "email": "rodrigorocha2612@gmail.com"
      }
    ],
    "kernelspec": {
      "display_name": "Python 3",
      "language": "python",
      "name": "python3"
    },
    "language_info": {
      "codemirror_mode": {
        "name": "ipython",
        "version": 3
      },
      "file_extension": ".py",
      "mimetype": "text/x-python",
      "name": "python",
      "nbconvert_exporter": "python",
      "pygments_lexer": "ipython3",
      "version": "3.8.5"
    },
    "title": "More Programming Academy",
    "colab": {
      "name": "Aula 2 Selenium.ipynb",
      "provenance": [],
      "toc_visible": true
    }
  },
  "nbformat": 4,
  "nbformat_minor": 0
}